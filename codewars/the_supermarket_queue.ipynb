{
 "metadata": {
  "language_info": {
   "codemirror_mode": {
    "name": "ipython",
    "version": 3
   },
   "file_extension": ".py",
   "mimetype": "text/x-python",
   "name": "python",
   "nbconvert_exporter": "python",
   "pygments_lexer": "ipython3",
   "version": "3.8.3-final"
  },
  "orig_nbformat": 2,
  "kernelspec": {
   "name": "python38364bitfa50acdca65f4cd19dbbd264ca5400d8",
   "display_name": "Python 3.8.3 64-bit"
  }
 },
 "nbformat": 4,
 "nbformat_minor": 2,
 "cells": [
  {
   "cell_type": "markdown",
   "metadata": {},
   "source": [
    "### The Supermarket Queue\n",
    "\n",
    "There is a queue for the self-checkout tills at the supermarket. Your task is write a function to calculate the total time required for all the customers to check out!\n",
    "\n",
    "#### input\n",
    "* customers: an array of positive integers representing the queue. Each integer represents a customer, and its value is the amount of time they require to check out.\n",
    "* n: a positive integer, the number of checkout tills.\n",
    "\n",
    "#### output\n",
    "The function should return an integer, the total time required.\n",
    "\n",
    "#### Examples\n",
    "```\n",
    "queue_time([5,3,4], 1)\n",
    "# should return 12\n",
    "# because when n=1, the total time is just the sum of the times\n",
    "\n",
    "queue_time([10,2,3,3], 2)\n",
    "# should return 10\n",
    "# because here n=2 and the 2nd, 3rd, and 4th people in the \n",
    "# queue finish before the 1st person has finished.\n",
    "\n",
    "queue_time([2,3,10], 2)\n",
    "# should return 12\n",
    "```\n",
    "#### Clarifications\n",
    "* There is only ONE queue serving many tills, and\n",
    "* The order of the queue NEVER changes, and\n",
    "* The front person in the queue (i.e. the first element in the array/list) proceeds to a till as soon as it becomes free.\n",
    "N.B. You should assume that all the test input will be valid, as specified above.\n",
    "\n",
    "P.S. The situation in this kata can be likened to the more-computer-science-related idea of a thread pool, with relation to running multiple processes at the same time: https://en.wikipedia.org/wiki/Thread_pool"
   ]
  },
  {
   "cell_type": "code",
   "execution_count": 4,
   "metadata": {
    "tags": []
   },
   "outputs": [
    {
     "output_type": "stream",
     "name": "stdout",
     "text": "12\n10\n"
    }
   ],
   "source": [
    "def queue_time(customers, n, tills=None):\n",
    "    if len(customers) == 0:\n",
    "        if tills is not None:\n",
    "            current_max = max(tills.keys(), key=(lambda k: tills[k]))\n",
    "            return tills[current_max]\n",
    "        return 0\n",
    "    if tills is None:\n",
    "        tills = {i:0 for i in range(n)}\n",
    "    current_key = min(tills.keys(), key=(lambda k: tills[k]))\n",
    "    tills[current_key] += customers[0]\n",
    "    return queue_time(customers[1:], n, tills)\n",
    "\n",
    "print(queue_time([5,3,4], 1))\n",
    "print(queue_time([10,2,3,3], 2))"
   ]
  },
  {
   "cell_type": "code",
   "execution_count": null,
   "metadata": {},
   "outputs": [],
   "source": []
  }
 ]
}