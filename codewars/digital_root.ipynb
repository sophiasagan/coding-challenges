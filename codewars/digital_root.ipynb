{
 "metadata": {
  "language_info": {
   "codemirror_mode": {
    "name": "ipython",
    "version": 3
   },
   "file_extension": ".py",
   "mimetype": "text/x-python",
   "name": "python",
   "nbconvert_exporter": "python",
   "pygments_lexer": "ipython3",
   "version": "3.8.3-final"
  },
  "orig_nbformat": 2,
  "kernelspec": {
   "name": "python38364bitfa50acdca65f4cd19dbbd264ca5400d8",
   "display_name": "Python 3.8.3 64-bit"
  }
 },
 "nbformat": 4,
 "nbformat_minor": 2,
 "cells": [
  {
   "cell_type": "markdown",
   "metadata": {},
   "source": [
    "[Digital_root](https://en.wikipedia.org/wiki/Digital_root) is the recursive sum of all the digits in a number.\n",
    "\n",
    "Given n, take the sum of the digits of n. If that value has more than one digit, continue reducing in this way until a single-digit number is produced. This is only applicable to the natural numbers.\n",
    "\n",
    "Examples\n",
    "```\n",
    "    16  -->  1 + 6 = 7\n",
    "   942  -->  9 + 4 + 2 = 15  -->  1 + 5 = 6\n",
    "132189  -->  1 + 3 + 2 + 1 + 8 + 9 = 24  -->  2 + 4 = 6\n",
    "493193  -->  4 + 9 + 3 + 1 + 9 + 3 = 29  -->  2 + 9 = 11  -->  1 + 1 = 2\n",
    "```"
   ]
  },
  {
   "cell_type": "code",
   "execution_count": 12,
   "metadata": {
    "tags": []
   },
   "outputs": [
    {
     "output_type": "stream",
     "name": "stdout",
     "text": "2\n1\n7\n6\n6\n"
    }
   ],
   "source": [
    "def digital_root(n):\n",
    "    # base case -> not enough digits to iterate through\n",
    "    if n < 10:\n",
    "        return n\n",
    "    else:\n",
    "        return digital_root(sum(map(int, str(n)))) # convert int to string for iteratation then sum digits\n",
    "\n",
    "print(digital_root(493193))\n",
    "print(digital_root(1))\n",
    "print(digital_root(16))\n",
    "print(digital_root(942))\n",
    "print(digital_root(132189))"
   ]
  },
  {
   "cell_type": "code",
   "execution_count": null,
   "metadata": {},
   "outputs": [],
   "source": []
  }
 ]
}