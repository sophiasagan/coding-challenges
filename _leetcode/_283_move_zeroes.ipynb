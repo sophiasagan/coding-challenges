{
 "cells": [
  {
   "cell_type": "markdown",
   "metadata": {},
   "source": [
    "### 283. Move Zeroes\n",
    "\n",
    "Given an array nums, write a function to move all 0's to the end of it while maintaining the relative order of the non-zero elements.\n",
    "\n",
    "Example:\n",
    "\n",
    ">Input: `[0,1,0,3,12]`\n",
    "\n",
    ">Output: `[1,3,12,0,0]`\n",
    "\n",
    "Note:\n",
    "\n",
    "You must do this in-place without making a copy of the array.\n",
    "Minimize the total number of operations."
   ]
  },
  {
   "cell_type": "code",
   "execution_count": 6,
   "metadata": {
    "tags": []
   },
   "outputs": [
    {
     "output_type": "stream",
     "name": "stdout",
     "text": "The resulting of moving_zeroes is: [3, 1, -2, 0, 0]\n"
    }
   ],
   "source": [
    "def moveZeroes(nums):\n",
    "    \"\"\"\n",
    "    Do not return anything, modify nums in-place instead.\n",
    "    \"\"\"\n",
    "    i = j = 0\n",
    "    for i in range(0, len(nums)):\n",
    "        if nums[i] !=0:\n",
    "            nums[j], nums[i] = nums[i], nums[j]\n",
    "            j+=1\n",
    "    return nums\n",
    "\n",
    "if __name__ == '__main__':\n",
    "    nums = [0, 3, 1, 0, -2]\n",
    "\n",
    "    print(f\"The resulting of moving_zeroes is: {moveZeroes(nums)}\")\n",
    "   "
   ]
  },
  {
   "cell_type": "markdown",
   "metadata": {},
   "source": [
    "\n",
    "21 / 21 test cases passed.\n",
    "\n",
    "Status: Accepted\n",
    "\n",
    "Runtime: 60 ms\n",
    "\n",
    "Memory Usage: 15 MB"
   ]
  }
 ],
 "metadata": {
  "language_info": {
   "codemirror_mode": {
    "name": "ipython",
    "version": 3
   },
   "file_extension": ".py",
   "mimetype": "text/x-python",
   "name": "python",
   "nbconvert_exporter": "python",
   "pygments_lexer": "ipython3",
   "version": "3.8.3-final"
  },
  "orig_nbformat": 2,
  "kernelspec": {
   "name": "python38364bitfa50acdca65f4cd19dbbd264ca5400d8",
   "display_name": "Python 3.8.3 64-bit"
  }
 },
 "nbformat": 4,
 "nbformat_minor": 2
}