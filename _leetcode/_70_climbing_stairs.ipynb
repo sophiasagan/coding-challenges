{
 "cells": [
  {
   "cell_type": "markdown",
   "metadata": {},
   "source": [
    "### Climbing Stairs\n",
    "\n",
    "You are climbing a stair case. It takes n steps to reach to the top.\n",
    "\n",
    "Each time you can either climb 1 or 2 steps. In how many distinct ways can you climb to the top?\n",
    "\n",
    "#### Example 1:\n",
    "\n",
    "Input: 2\n",
    "Output: 2\n",
    "Explanation: There are two ways to climb to the top.\n",
    "1. 1 step + 1 step\n",
    "2. 2 steps\n",
    "\n",
    "#### Example 2:\n",
    "\n",
    "Input: 3\n",
    "Output: 3\n",
    "Explanation: There are three ways to climb to the top.\n",
    "1. 1 step + 1 step + 1 step\n",
    "2. 1 step + 2 steps\n",
    "3. 2 steps + 1 step\n",
    " \n",
    "\n",
    "#### Constraints:\n",
    "\n",
    "1 <= n <= 45"
   ]
  },
  {
   "cell_type": "code",
   "execution_count": 32,
   "metadata": {},
   "outputs": [
    {
     "output_type": "execute_result",
     "data": {
      "text/plain": "8"
     },
     "metadata": {},
     "execution_count": 32
    }
   ],
   "source": [
    "# from tk in algorithms - first pass solution\n",
    "def climb_stairs(current, desired):\n",
    "    if current > desired:\n",
    "        return 0\n",
    "    if current == desired:\n",
    "        return 1\n",
    "    return climb_stairs(current+1, desired) + climb_stairs(current+2, desired)\n",
    "\n",
    "climb_stairs(0,5)"
   ]
  },
  {
   "cell_type": "code",
   "execution_count": 48,
   "metadata": {
    "tags": []
   },
   "outputs": [
    {
     "output_type": "stream",
     "name": "stdout",
     "text": "True\n3\n5\nTrue\n10946\n20365011074\n0\n"
    }
   ],
   "source": [
    "# fibonacci solution\n",
    "class Solution:\n",
    "    def climbStairs(self, n):\n",
    "        f_n_minus_2 = 1  # f(1)\n",
    "        f_n_minus_1 = 2  # f(2)\n",
    "        if n==1: \n",
    "            return f_n_minus_2\n",
    "        if n==2: \n",
    "            return f_n_minus_1\n",
    "        fn = 0\n",
    "        for i in range(2, n):\n",
    "            fn = f_n_minus_1 +f_n_minus_2\n",
    "            f_n_minus_2 = f_n_minus_1 # for next iteration, n = n+1\n",
    "            f_n_minus_1 = fn\n",
    "        return fn\n",
    "\n",
    "# f(n) = f(n-1) + f(n-2) n>2\n",
    "\n",
    "# accepted 45/45 \n",
    "# runtime: 28ms - faster than first solution\n",
    "# memory usage: 13.9mb\n",
    "\n",
    "    def runtests(self):\n",
    "            print (self.climbStairs(2) == 2)\n",
    "            print (self.climbStairs(3))\n",
    "            print (self.climbStairs(4))\n",
    "            print (self.climbStairs(5) == 8)\n",
    "            print (self.climbStairs(20))\n",
    "            print (self.climbStairs(50))\n",
    "            print (self.climbStairs (0))\n",
    "        \n",
    "results = Solution()\n",
    "results.runtests()"
   ]
  },
  {
   "cell_type": "code",
   "execution_count": 33,
   "metadata": {
    "tags": []
   },
   "outputs": [
    {
     "output_type": "stream",
     "name": "stdout",
     "text": "True\nTrue\nTrue\n8\n10946\n1836311903\n1\n"
    }
   ],
   "source": [
    "# first solution\n",
    "class Solution:\n",
    "    def climbStairs(self, n):\n",
    "        if n <= 1:\n",
    "            return 1\n",
    "        stair, stair2 = 1, 1\n",
    "        for i in range(2, n + 1):\n",
    "            temp = stair\n",
    "            stair = stair2 + stair\n",
    "            stair2 = temp\n",
    "        return stair\n",
    "## accepted 45/45\n",
    "## runtime: 40ms\n",
    "## memory: 14mb\n",
    "\n",
    "    def runtests(self):\n",
    "                print (self.climbStairs(2) == 2)\n",
    "                print (self.climbStairs(3) == 3)\n",
    "                print (self.climbStairs(4) == 5)\n",
    "                print (self.climbStairs(5))\n",
    "                print (self.climbStairs(20))\n",
    "                print (self.climbStairs(45))\n",
    "                print (self.climbStairs (0))\n",
    "        \n",
    "results = Solution()\n",
    "results.runtests()\n"
   ]
  },
  {
   "cell_type": "code",
   "execution_count": null,
   "metadata": {},
   "outputs": [],
   "source": [
    "# leetcode solution in Java\n",
    "\n",
    "public class Solution {\n",
    "    public int climbStairs(int n) {\n",
    "        return climb_Stairs(0, n);\n",
    "    }\n",
    "    public int climb_Stairs(int i, int n) {\n",
    "        if (i > n) {\n",
    "            return 0;\n",
    "        }\n",
    "        if (i == n) {\n",
    "            return 1;\n",
    "        }\n",
    "        return climb_Stairs(i + 1, n) + climb_Stairs(i + 2, n);\n",
    "    }\n",
    "}"
   ]
  },
  {
   "cell_type": "code",
   "execution_count": 39,
   "metadata": {
    "tags": []
   },
   "outputs": [
    {
     "output_type": "stream",
     "name": "stdout",
     "text": "True\nTrue\nTrue\n8\n10946\n1836311903\n1\n"
    }
   ],
   "source": [
    "class Solution:\n",
    "    def climbStairs(self, n):\n",
    "        if n <= 1:\n",
    "            return 1\n",
    "        stair = [1] * 2\n",
    "        for i in range(2, n + 1):\n",
    "            stair[1], stair[0] = stair[1] + stair[0], stair[1]\n",
    "        return stair[1]\n",
    "\n",
    "    def runtests(self):\n",
    "            print (self.climbStairs(2) == 2)\n",
    "            print (self.climbStairs(3) == 3)\n",
    "            print (self.climbStairs(4) == 5)\n",
    "            print (self.climbStairs(5))\n",
    "            print (self.climbStairs(20))\n",
    "            print (self.climbStairs(45))\n",
    "            print (self.climbStairs (0))\n",
    "        \n",
    "results = Solution()\n",
    "results.runtests()"
   ]
  },
  {
   "cell_type": "code",
   "execution_count": null,
   "metadata": {},
   "outputs": [],
   "source": []
  }
 ],
 "metadata": {
  "language_info": {
   "codemirror_mode": {
    "name": "ipython",
    "version": 3
   },
   "file_extension": ".py",
   "mimetype": "text/x-python",
   "name": "python",
   "nbconvert_exporter": "python",
   "pygments_lexer": "ipython3",
   "version": "3.8.3-final"
  },
  "orig_nbformat": 2,
  "kernelspec": {
   "name": "python38364bitfa50acdca65f4cd19dbbd264ca5400d8",
   "display_name": "Python 3.8.3 64-bit"
  }
 },
 "nbformat": 4,
 "nbformat_minor": 2
}