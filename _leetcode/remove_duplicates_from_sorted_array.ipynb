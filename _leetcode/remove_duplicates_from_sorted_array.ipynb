{
 "cells": [
  {
   "cell_type": "markdown",
   "metadata": {},
   "source": [
    "## Array"
   ]
  },
  {
   "cell_type": "markdown",
   "metadata": {},
   "source": [
    "### Remove Duplicates from Sorted Array\n",
    "\n",
    "Example 1:\n",
    "Given nums = `[1,1,2]`,\n",
    "\n",
    "Your function should return length = 2, with the first two elements of nums being 1 and 2 respectively.\n",
    "\n",
    "It doesn't matter what you leave beyond the returned length."
   ]
  },
  {
   "cell_type": "markdown",
   "metadata": {},
   "source": [
    "Example 2:\n",
    "\n",
    "Given nums = `[0,0,1,1,1,2,2,3,3,4]`,\n",
    "\n",
    "Your function should return length = 5, with the first five elements of nums being modified to 0, 1, 2, 3, and 4 respectively.\n",
    "\n",
    "It doesn't matter what values are set beyond the returned length.\n"
   ]
  },
  {
   "cell_type": "markdown",
   "metadata": {},
   "source": [
    "#### Clarification:\n",
    "\n",
    "Confused why the returned value is an integer but your answer is an array?\n",
    "\n",
    "Note that the input array is passed in by reference, which means modification to the input array will be known to the caller as well.\n",
    "\n",
    "Internally you can think of this:"
   ]
  },
  {
   "cell_type": "markdown",
   "metadata": {},
   "source": [
    ">// nums is passed in by reference. (i.e., without making a copy)\n",
    "int len = removeDuplicates(nums);\n",
    "\n",
    ">// any modification to nums in your function would be known by the caller.\n",
    ">// using the length returned by your function, it prints the first len elements.\n",
    "for (int i = 0; i < len; i++) {\n",
    "    print(nums[i]);\n",
    "}"
   ]
  },
  {
   "cell_type": "code",
   "execution_count": null,
   "metadata": {},
   "outputs": [],
   "source": [
    "# incorrect 58 of 161\n",
    "class Solution:\n",
    "    def removeDuplicates(self, nums: List[int]) -> int:\n",
    "        if len(nums) < 1:\n",
    "            return 0\n",
    "        i = 0\n",
    "        duplicates = i + 1\n",
    "        for i in range(duplicates, len(nums)):\n",
    "            if nums[i] != nums[duplicates]:\n",
    "                duplicates += 1\n",
    "                nums[duplicates] = nums[i]\n",
    "            else:\n",
    "                nums[i] += 1\n",
    "        return duplicates + 1\n"
   ]
  },
  {
   "cell_type": "code",
   "execution_count": 48,
   "metadata": {
    "tags": []
   },
   "outputs": [
    {
     "output_type": "stream",
     "name": "stdout",
     "text": "True\nTrue\nTrue\nTrue\nTrue\nTrue\nTrue\n"
    }
   ],
   "source": [
    "class Solution:\n",
    "    def removeDuplicates(self, nums):\n",
    "        if len(nums) == 0:\n",
    "            return 0\n",
    "        i = 0\n",
    "        j = i + 1\n",
    "        \n",
    "        for j in range(1, len(nums)):\n",
    "            if (nums[i] == nums[j]):\n",
    "                j += 1\n",
    "            else:\n",
    "                i += 1\n",
    "                nums[i] = nums[j]\n",
    "        return i + 1\n",
    "\n",
    "    def runtests(self):\n",
    "            print (self.removeDuplicates([1,1,2]) == 2)\n",
    "            print (self.removeDuplicates([1,1,2,2,2]) == 2)\n",
    "            print (self.removeDuplicates([1]) == 1)\n",
    "            print (self.removeDuplicates([1,1]) == 1)\n",
    "            print (self.removeDuplicates([1,1,1]) == 1)\n",
    "            print (self.removeDuplicates([1,1,1,2]) == 2)\n",
    "            print (self.removeDuplicates ([0,0,1,1,1,2,2,3,3,4]) == 5)\n",
    "        \n",
    "sol = Solution()\n",
    "sol.runtests()"
   ]
  },
  {
   "cell_type": "code",
   "execution_count": null,
   "metadata": {},
   "outputs": [],
   "source": [
    "# leetcode solution in Java \n",
    "public int removeDuplicates(int[] nums) {\n",
    "    if (nums.length == 0) return 0;\n",
    "    int i = 0;\n",
    "    for (int j = 1; j < nums.length; j++) {\n",
    "        if (nums[j] != nums[i]) {\n",
    "            i++;\n",
    "            nums[i] = nums[j];\n",
    "        }\n",
    "    }\n",
    "    return i + 1;\n",
    "}"
   ]
  }
 ],
 "metadata": {
  "language_info": {
   "codemirror_mode": {
    "name": "ipython",
    "version": 3
   },
   "file_extension": ".py",
   "mimetype": "text/x-python",
   "name": "python",
   "nbconvert_exporter": "python",
   "pygments_lexer": "ipython3",
   "version": "3.8.3-final"
  },
  "orig_nbformat": 2,
  "kernelspec": {
   "name": "python38364bitfa50acdca65f4cd19dbbd264ca5400d8",
   "display_name": "Python 3.8.3 64-bit"
  }
 },
 "nbformat": 4,
 "nbformat_minor": 2
}