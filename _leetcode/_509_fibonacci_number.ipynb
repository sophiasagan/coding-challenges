{
 "cells": [
  {
   "cell_type": "markdown",
   "metadata": {},
   "source": [
    "### 509. Fibonacci Number\n",
    "\n",
    "The Fibonacci numbers, commonly denoted F(n) form a sequence, called the Fibonacci sequence, such that each number is the sum of the two preceding ones, starting from 0 and 1. That is,\n",
    "\n",
    "F(0) = 0,   F(1) = 1\n",
    "F(N) = F(N - 1) + F(N - 2), for N > 1.\n",
    "Given N, calculate F(N).\n",
    "\n",
    " \n",
    "\n",
    "#### Example 1:\n",
    "\n",
    ">Input: 2\n",
    "\n",
    ">Output: 1\n",
    "\n",
    ">Explanation: F(2) = F(1) + F(0) = 1 + 0 = 1.\n",
    "\n",
    "#### Example 2:\n",
    "\n",
    ">Input: 3\n",
    "\n",
    ">Output: 2\n",
    "\n",
    ">Explanation: F(3) = F(2) + F(1) = 1 + 1 = 2.\n",
    "\n",
    "#### Example 3:\n",
    "\n",
    ">Input: 4\n",
    "\n",
    ">Output: 3\n",
    "\n",
    ">Explanation: F(4) = F(3) + F(2) = 2 + 1 = 3.\n",
    " \n",
    "\n",
    "Note:\n",
    "\n",
    "0 ≤ N ≤ 30.\n"
   ]
  },
  {
   "cell_type": "code",
   "execution_count": null,
   "metadata": {},
   "outputs": [],
   "source": [
    "# referencing previous fib like solution\n",
    "class Solution:\n",
    "    def climbStairs(self, n):\n",
    "        f_n_minus_2 = 1  # f(1)\n",
    "        f_n_minus_1 = 2  # f(2)\n",
    "        if n==1: \n",
    "            return f_n_minus_2\n",
    "        if n==2: \n",
    "            return f_n_minus_1\n",
    "        fn = 0\n",
    "        for i in range(2, n):\n",
    "            fn = f_n_minus_1 +f_n_minus_2\n",
    "            f_n_minus_2 = f_n_minus_1 # for next iteration, n = n+1\n",
    "            f_n_minus_1 = fn\n",
    "        return fn\n"
   ]
  },
  {
   "cell_type": "code",
   "execution_count": 6,
   "metadata": {
    "tags": []
   },
   "outputs": [
    {
     "output_type": "stream",
     "name": "stdout",
     "text": "True\nFalse\n-1\n-1\n1\n1\n0\n"
    }
   ],
   "source": [
    "# failed 3/31\n",
    "class Solution:\n",
    "    def fib(self, n: int) -> int:\n",
    "        f_n_plus_2 = 1  # f(1)\n",
    "        f_n_plus_1 = 1  # f(2)\n",
    "        if n==1: \n",
    "            return f_n_plus_2\n",
    "        if n==2: \n",
    "            return f_n_plus_1\n",
    "        fn = 0\n",
    "        for i in range(2, n):\n",
    "            fn = f_n_plus_1 - f_n_plus_2\n",
    "            f_n_plus_2 = f_n_plus_1 # for next iteration, n = n - 1\n",
    "            f_n_plus_1 = fn\n",
    "        return fn\n",
    "\n",
    "    def runtests(self):\n",
    "                print (self.fib(2) == 1)\n",
    "                print (self.fib(3) == 2)\n",
    "                print (self.fib(4))\n",
    "                print (self.fib(5))\n",
    "                print (self.fib(20))\n",
    "                print (self.fib(50))\n",
    "                print (self.fib (0))\n",
    "        \n",
    "results = Solution()\n",
    "results.runtests()"
   ]
  },
  {
   "cell_type": "code",
   "execution_count": 6,
   "metadata": {
    "tags": []
   },
   "outputs": [
    {
     "output_type": "stream",
     "name": "stdout",
     "text": "True\nFalse\n2\n3\n4181\n7778742049\n1\n"
    }
   ],
   "source": [
    "# failed 2/31\n",
    "class Solution:\n",
    "    def fib(self, n):\n",
    "        if n <= 1:\n",
    "            return 1\n",
    "        fib1, fib2 = 1, 1\n",
    "        for i in range(2, n - 1):\n",
    "            temp = fib1\n",
    "            fib1 = fib2 + fib1\n",
    "            fib2 = temp\n",
    "        return fib1\n",
    "\n",
    "    def runtests(self):\n",
    "                print (self.fib(2) == 1)\n",
    "                print (self.fib(3) == 2)\n",
    "                print (self.fib(4))\n",
    "                print (self.fib(5))\n",
    "                print (self.fib(20))\n",
    "                print (self.fib(50))\n",
    "                print (self.fib (0))\n",
    "        \n",
    "results = Solution()\n",
    "results.runtests()"
   ]
  },
  {
   "cell_type": "code",
   "execution_count": 4,
   "metadata": {
    "tags": []
   },
   "outputs": [
    {
     "output_type": "stream",
     "name": "stdout",
     "text": "True\nTrue\n3\n5\n0\n"
    }
   ],
   "source": [
    "class Solution:\n",
    "    def fib(self, N):\n",
    "        if N <= 1:\n",
    "            return N\n",
    "        if N == 2:\n",
    "            return 1\n",
    "        temp = 0\n",
    "        fib1, fib2 = 1, 1\n",
    "        for i in range(3, N+1):\n",
    "            temp = fib1 + fib2\n",
    "            fib2 = fib1\n",
    "            fib1 = temp\n",
    "        return temp\n",
    "\n",
    "       \n",
    "    def runtests(self):\n",
    "                print (self.fib(2) == 1)\n",
    "                print (self.fib(3) == 2)\n",
    "                print (self.fib(4))\n",
    "                print (self.fib(5))\n",
    "                # print (self.fib(20))\n",
    "                # print (self.fib(50))\n",
    "                print (self.fib (0))\n",
    "        \n",
    "results = Solution()\n",
    "results.runtests()\n",
    "\n",
    "# 31 / 31 test cases passed.\n",
    "# Status: Accepted\n",
    "# Runtime: 32 ms\n",
    "# Memory Usage: 13.8 MB"
   ]
  },
  {
   "cell_type": "code",
   "execution_count": 20,
   "metadata": {
    "tags": []
   },
   "outputs": [
    {
     "output_type": "stream",
     "name": "stdout",
     "text": "True\nTrue\n3\n5\n0\n"
    }
   ],
   "source": [
    "# recursive solution \n",
    "# accepted\n",
    "# runtime: 908ms\n",
    "# memory: 13.7mb\n",
    "class Solution:\n",
    "    def fib(self, N):\n",
    "        if N == 0:\n",
    "            return 0\n",
    "        if N == 1:\n",
    "            return 1\n",
    "        return self.fib(N - 1) + self.fib(N - 2)\n",
    "\n",
    "    def runtests(self):\n",
    "                print (self.fib(2) == 1)\n",
    "                print (self.fib(3) == 2)\n",
    "                print (self.fib(4))\n",
    "                print (self.fib(5))\n",
    "                # print (self.fib(20))\n",
    "                # print (self.fib(50))\n",
    "                print (self.fib (0))\n",
    "        \n",
    "results = Solution()\n",
    "results.runtests()"
   ]
  },
  {
   "cell_type": "markdown",
   "metadata": {},
   "source": [
    "[solutions](https://leetcode.com/articles/fibonacci-number/)"
   ]
  }
 ],
 "metadata": {
  "language_info": {
   "codemirror_mode": {
    "name": "ipython",
    "version": 3
   },
   "file_extension": ".py",
   "mimetype": "text/x-python",
   "name": "python",
   "nbconvert_exporter": "python",
   "pygments_lexer": "ipython3",
   "version": "3.8.3-final"
  },
  "orig_nbformat": 2,
  "kernelspec": {
   "name": "python38364bitfa50acdca65f4cd19dbbd264ca5400d8",
   "display_name": "Python 3.8.3 64-bit"
  }
 },
 "nbformat": 4,
 "nbformat_minor": 2
}