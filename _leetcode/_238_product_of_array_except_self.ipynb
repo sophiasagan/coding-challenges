{
 "cells": [
  {
   "cell_type": "markdown",
   "metadata": {},
   "source": [
    "### 238. Product of Array Except Self\n",
    "\n",
    "Given an array nums of n integers where n > 1,  return an array output such that output`[i]` is equal to the product of all the elements of nums except nums`[i]`.\n",
    "\n",
    "Example:\n",
    "\n",
    ">Input:  `[1,2,3,4]`\n",
    "\n",
    ">Output: `[24,12,8,6]`\n",
    "\n",
    "Constraint: It's guaranteed that the product of the elements of any prefix or suffix of the array (including the whole array) fits in a 32 bit integer.\n",
    "\n",
    "Note: Please solve it without division and in O(n).\n",
    "\n",
    "Follow up:\n",
    "Could you solve it with constant space complexity? (The output array does not count as extra space for the purpose of space complexity analysis.)\n",
    "\n"
   ]
  },
  {
   "cell_type": "code",
   "execution_count": 5,
   "metadata": {
    "tags": []
   },
   "outputs": [
    {
     "output_type": "stream",
     "name": "stdout",
     "text": "True\nTrue\n"
    }
   ],
   "source": [
    "import math\n",
    "\n",
    "class Solution:\n",
    "    def productExceptSelf(self, nums):\n",
    "        prod_arr = []\n",
    "\n",
    "        for i in range(len(nums)):\n",
    "            prod_arr.append(math.prod(nums[:i] + nums[i+1:]))\n",
    "        return prod_arr\n",
    "\n",
    "    def runtests(self):\n",
    "                print (self.productExceptSelf([1,2,3,4]) == [24,12,8,6])\n",
    "                print (self.productExceptSelf([7, 9, 1, 8, 6, 7, 8, 8, 7, 10]) == [13547520, 10536960, 94832640, 11854080, 15805440, 13547520, 11854080, 11854080, 13547520, 9483264])\n",
    "                # print (self.productExceptSelf([1]) == 1)\n",
    "                # print (self.productExceptSelf([1,1]) == 1)\n",
    "                # print (self.productExceptSelf([1,1,1]) == 1)\n",
    "                # print (self.productExceptSelf([1,1,1,2]) == 2)\n",
    "                # print (self.productExceptSelf ([0,0,1,1,1,2,2,3,3,4]) ==5)\n",
    "        \n",
    "sol = Solution()\n",
    "sol.runtests()\n",
    "\n",
    "'''\n",
    "17/18 accepted\n",
    "runtime error on last test\n",
    "'''\n",
    "        "
   ]
  },
  {
   "cell_type": "code",
   "execution_count": 2,
   "metadata": {
    "tags": []
   },
   "outputs": [
    {
     "output_type": "stream",
     "name": "stdout",
     "text": "True\nTrue\n"
    }
   ],
   "source": [
    "class Solution:\n",
    "    def productExceptSelf(self, nums):\n",
    "        prod_arr = [1] * len(nums)\n",
    "        for i in range(1, len(nums)):\n",
    "            prod_arr[i] = prod_arr[i - 1] * nums[i - 1]\n",
    "        right = 1\n",
    "        for i in range(len(nums) - 1, -1, -1):\n",
    "            prod_arr[i] *= right\n",
    "            right *= nums[i]\n",
    "        return prod_arr\n",
    "\n",
    "    def runtests(self):\n",
    "            print (self.productExceptSelf([1,2,3,4]) == [24,12,8,6])\n",
    "            print (self.productExceptSelf([7, 9, 1, 8, 6, 7, 8, 8, 7, 10]) == [13547520, 10536960, 94832640, 11854080, 15805440, 13547520, 11854080, 11854080, 13547520, 9483264])\n",
    "            # print (self.productExceptSelf([1]) == 1)\n",
    "            # print (self.productExceptSelf([1,1]) == 1)\n",
    "            # print (self.productExceptSelf([1,1,1]) == 1)\n",
    "            # print (self.productExceptSelf([1,1,1,2]) == 2)\n",
    "            # print (self.productExceptSelf ([0,0,1,1,1,2,2,3,3,4]) ==5)\n",
    "        \n",
    "sol = Solution()\n",
    "sol.runtests()\n",
    "'''\n",
    "18 / 18 test cases passed.\n",
    "Status: Accepted\n",
    "Runtime: 144 ms\n",
    "Memory Usage: 20.3 MB\n",
    "'''\n",
    "        "
   ]
  },
  {
   "cell_type": "code",
   "execution_count": null,
   "metadata": {},
   "outputs": [],
   "source": []
  }
 ],
 "metadata": {
  "language_info": {
   "codemirror_mode": {
    "name": "ipython",
    "version": 3
   },
   "file_extension": ".py",
   "mimetype": "text/x-python",
   "name": "python",
   "nbconvert_exporter": "python",
   "pygments_lexer": "ipython3",
   "version": "3.8.3-final"
  },
  "orig_nbformat": 2,
  "kernelspec": {
   "name": "python38364bitfa50acdca65f4cd19dbbd264ca5400d8",
   "display_name": "Python 3.8.3 64-bit"
  }
 },
 "nbformat": 4,
 "nbformat_minor": 2
}